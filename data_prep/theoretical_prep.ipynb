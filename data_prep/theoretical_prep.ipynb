{
 "cells": [
  {
   "cell_type": "markdown",
   "metadata": {},
   "source": [
    "## Preparing theoretical data"
   ]
  },
  {
   "cell_type": "code",
   "execution_count": 1,
   "metadata": {},
   "outputs": [],
   "source": [
    "import os\n",
    "from collections import OrderedDict\n",
    "import pandas as pd\n",
    "\n",
    "THEO_PATH = '../data/theoretical/'"
   ]
  },
  {
   "cell_type": "code",
   "execution_count": 2,
   "metadata": {},
   "outputs": [
    {
     "name": "stdout",
     "output_type": "stream",
     "text": [
      "Ba_21_29.dat\n",
      "Dy_29_35.dat\n",
      "Dy_32_39.dat\n",
      "Er_34_41.dat\n",
      "Mo_29_41.dat\n",
      "Y\n"
     ]
    }
   ],
   "source": [
    "%%bash\n",
    "ls ../data/theoretical"
   ]
  },
  {
   "cell_type": "markdown",
   "metadata": {},
   "source": [
    "Folder structure"
   ]
  },
  {
   "cell_type": "code",
   "execution_count": 3,
   "metadata": {},
   "outputs": [
    {
     "name": "stdout",
     "output_type": "stream",
     "text": [
      "  1.0000130    8.127e+00      29:    0 3d*     1a J=0.0    - 3d9 5f1   159a   J=1.0   : 8.1270E+00 |\n",
      "  1.0037440    2.569e-01      29:    0 3d*     1a J=0.0    - 3s1 4p1   144a   J=1.0   : 2.5689E-01 |\n",
      "  1.0129800    5.429e-01      29:    0 3d*     1a J=0.0    - 3p5 4f1   137a   J=2.0   : 5.4286E-01 |\n",
      "  1.0142860    3.211e+00      29:    0 3d*     1a J=0.0    - 3d9 5f1   136a   J=1.0   : 3.2110E+00 |\n",
      "  1.0155400    4.444e-09      29:    0 3d*     1a J=0.0    - 3p5 4f1   134a   J=3.0   : 4.4437E-09 |\n",
      "  1.0174100    5.172e-08      29:    0 3d*     1a J=0.0    - 3p5 4f1   129a   J=3.0   : 5.1725E-08 |\n",
      "  1.0195420    1.426e-02      29:    0 3d*     1a J=0.0    - 3d9 5f1   121a   J=1.0   : 1.4259E-02 |\n",
      "  1.0198820    6.556e-03      29:    0 3d*     1a J=0.0    - 3p5 4f1   120a   J=2.0   : 6.5564E-03 |\n",
      "  1.0217320    2.067e-08      29:    0 3d*     1a J=0.0    - 3p5 4f1   118a   J=1.0   : 2.0668E-08 |\n",
      "  1.0329960    1.656e-07      29:    0 3d*     1a J=0.0    - 3p5 4d1   115a   J=2.0   : 1.6562E-07 |\n"
     ]
    }
   ],
   "source": [
    "%%bash\n",
    "head ../data/theoretical/Ba_21_29.dat"
   ]
  },
  {
   "cell_type": "markdown",
   "metadata": {},
   "source": [
    "Format of theoretical files.\n",
    "Energy and charge state is in the files name."
   ]
  },
  {
   "cell_type": "code",
   "execution_count": 4,
   "metadata": {},
   "outputs": [],
   "source": [
    "def organizeFile(fname):\n",
    "    \n",
    "    wvls, ints, csts = [],[],[]\n",
    "    ulevel, ulevelnr, ulevelJ = [],[],[]\n",
    "    llevel, llevelnr, llevelJ = [],[],[]\n",
    "    with open(fname, 'r') as f:\n",
    "# ['4.2564470', '4.899e-02', '30:', '2p5', '3d1', '15', 'J=3.0', '-', '2s1', '3d1', '37', 'J=2.0', ':', '4.8991E-02', '|\\n']\n",
    "        for row in f:\n",
    "            firstline = 1\n",
    "            for line in row.split('|'):\n",
    "                if line == '\\n':\n",
    "                    continue\n",
    "                spl = list(filter(None, line.split(' ')))\n",
    "                if firstline:\n",
    "                    wv = float(spl[0])\n",
    "                    wvls.append(wv)\n",
    "                    ints.append(float(spl[-1]))\n",
    "                    csts.append(int(spl[2][:-1]))\n",
    "                    ulevel.append(spl[3]+'-'+spl[4])\n",
    "                    ulevelnr.append(int(spl[5].replace('a', '')))\n",
    "                    ulevelJ.append(float(spl[6][2:]))\n",
    "                    llevel.append(spl[8]+'-'+spl[9])\n",
    "                    llevelnr.append(int(spl[10].replace('a', '')))\n",
    "                    llevelJ.append(float(spl[11][2:]))\n",
    "                    firstline = 0\n",
    "                else:\n",
    "                    #['31:', '3s1', '3p2', '-25', 'J=1.0', '-', '3d1', '4d1', '-1667', 'J=1.0', ':', '2.1350E-20']\n",
    "                    wvls.append(wv)\n",
    "                    ints.append(float(spl[-1]))\n",
    "                    csts.append(int(spl[0][:-1]))\n",
    "                    ulevel.append(spl[1]+'-'+spl[2])\n",
    "                    ulevelnr.append(int(spl[3].replace('a', '')))\n",
    "                    ulevelJ.append(float(spl[4][2:]))\n",
    "                    llevel.append(spl[6]+'-'+spl[7])\n",
    "                    llevelnr.append(int(spl[8].replace('a', '')))\n",
    "                    llevelJ.append(float(spl[9][2:]))\n",
    "\n",
    "    return {'Wavelength':wvls, 'Intensity':ints, 'State':csts,\\\n",
    "            'UpperLevel':ulevel, 'UpperLevelNr':ulevelnr, 'UpperLevelJ':ulevelJ,\\\n",
    "            'LowerLevel':llevel, 'LowerLevelNr':llevelnr, 'LowerLevelJ':llevelJ\n",
    "           }"
   ]
  },
  {
   "cell_type": "code",
   "execution_count": 5,
   "metadata": {},
   "outputs": [
    {
     "data": {
      "text/html": [
       "<div>\n",
       "<style scoped>\n",
       "    .dataframe tbody tr th:only-of-type {\n",
       "        vertical-align: middle;\n",
       "    }\n",
       "\n",
       "    .dataframe tbody tr th {\n",
       "        vertical-align: top;\n",
       "    }\n",
       "\n",
       "    .dataframe thead th {\n",
       "        text-align: right;\n",
       "    }\n",
       "</style>\n",
       "<table border=\"1\" class=\"dataframe\">\n",
       "  <thead>\n",
       "    <tr style=\"text-align: right;\">\n",
       "      <th></th>\n",
       "      <th>Intensity</th>\n",
       "      <th>LowerLevel</th>\n",
       "      <th>LowerLevelJ</th>\n",
       "      <th>LowerLevelNr</th>\n",
       "      <th>State</th>\n",
       "      <th>UpperLevel</th>\n",
       "      <th>UpperLevelJ</th>\n",
       "      <th>UpperLevelNr</th>\n",
       "      <th>Wavelength</th>\n",
       "    </tr>\n",
       "  </thead>\n",
       "  <tbody>\n",
       "    <tr>\n",
       "      <th>0</th>\n",
       "      <td>7.925200e-21</td>\n",
       "      <td>3p2-3d1</td>\n",
       "      <td>2.0</td>\n",
       "      <td>-103</td>\n",
       "      <td>29</td>\n",
       "      <td>3p2-6g1</td>\n",
       "      <td>2.0</td>\n",
       "      <td>1135</td>\n",
       "      <td>1.000001</td>\n",
       "    </tr>\n",
       "    <tr>\n",
       "      <th>1</th>\n",
       "      <td>1.222400e-20</td>\n",
       "      <td>3p2-3d1</td>\n",
       "      <td>2.0</td>\n",
       "      <td>-76</td>\n",
       "      <td>29</td>\n",
       "      <td>3p2-6g1</td>\n",
       "      <td>3.0</td>\n",
       "      <td>973</td>\n",
       "      <td>1.000006</td>\n",
       "    </tr>\n",
       "    <tr>\n",
       "      <th>2</th>\n",
       "      <td>1.884600e-16</td>\n",
       "      <td>3p1-3d1</td>\n",
       "      <td>3.0</td>\n",
       "      <td>-152</td>\n",
       "      <td>31</td>\n",
       "      <td>3p1-6d1</td>\n",
       "      <td>2.0</td>\n",
       "      <td>342</td>\n",
       "      <td>1.000006</td>\n",
       "    </tr>\n",
       "    <tr>\n",
       "      <th>3</th>\n",
       "      <td>1.240600e-22</td>\n",
       "      <td>3p2-3d1</td>\n",
       "      <td>4.0</td>\n",
       "      <td>-67</td>\n",
       "      <td>29</td>\n",
       "      <td>3p2-6g1</td>\n",
       "      <td>5.0</td>\n",
       "      <td>933</td>\n",
       "      <td>1.000009</td>\n",
       "    </tr>\n",
       "    <tr>\n",
       "      <th>4</th>\n",
       "      <td>3.602200e-15</td>\n",
       "      <td>3d1-4d1</td>\n",
       "      <td>3.5</td>\n",
       "      <td>-943</td>\n",
       "      <td>32</td>\n",
       "      <td>2p5-3p2</td>\n",
       "      <td>3.5</td>\n",
       "      <td>-30</td>\n",
       "      <td>1.000009</td>\n",
       "    </tr>\n",
       "  </tbody>\n",
       "</table>\n",
       "</div>"
      ],
      "text/plain": [
       "      Intensity LowerLevel  LowerLevelJ  LowerLevelNr  State UpperLevel  \\\n",
       "0  7.925200e-21    3p2-3d1          2.0          -103     29    3p2-6g1   \n",
       "1  1.222400e-20    3p2-3d1          2.0           -76     29    3p2-6g1   \n",
       "2  1.884600e-16    3p1-3d1          3.0          -152     31    3p1-6d1   \n",
       "3  1.240600e-22    3p2-3d1          4.0           -67     29    3p2-6g1   \n",
       "4  3.602200e-15    3d1-4d1          3.5          -943     32    2p5-3p2   \n",
       "\n",
       "   UpperLevelJ  UpperLevelNr  Wavelength  \n",
       "0          2.0          1135    1.000001  \n",
       "1          3.0           973    1.000006  \n",
       "2          2.0           342    1.000006  \n",
       "3          5.0           933    1.000009  \n",
       "4          3.5           -30    1.000009  "
      ]
     },
     "execution_count": 5,
     "metadata": {},
     "output_type": "execute_result"
    }
   ],
   "source": [
    "dic = organizeFile('../data/theoretical/Mo_29_41.dat')\n",
    "df = pd.DataFrame(dic)#.reindex(['Wavelength','Intensity','State','UpperLevel', 'UpperLevelNr', 'UpperLevelJ',\n",
    "            #'LowerLevel', 'LowerLevelNr', 'LowerLevelJ'], axis=1)\n",
    "df.head()\n",
    "#df.to_csv('what.csv')"
   ]
  },
  {
   "cell_type": "code",
   "execution_count": 6,
   "metadata": {},
   "outputs": [
    {
     "name": "stdout",
     "output_type": "stream",
     "text": [
      "Mo_29_41.dat: 4650\n",
      "Dy_29_35.dat: 1200\n",
      "Dy_32_39.dat: 2000\n",
      "Er_34_41.dat: 2800\n",
      "Ba_21_29.dat: 1500\n"
     ]
    }
   ],
   "source": [
    "firstloop = 1\n",
    "elist = {'Mo':42, 'Ba':56, 'Dy':66, 'Er':68}\n",
    "\n",
    "for f in os.listdir('../data/theoretical/'):\n",
    "    if f == 'Y':\n",
    "        continue\n",
    "    energy = int(input(f+': '))\n",
    "    cd = organizeFile('../data/theoretical/'+f)\n",
    "    element = f.split('/')[-1].split('_')[0]\n",
    "    if firstloop:\n",
    "        df = pd.DataFrame(cd)\n",
    "        df['Energy'] = energy\n",
    "        df['Element'] = elist[element]\n",
    "        firstloop = 0\n",
    "    else:\n",
    "        cdf = pd.DataFrame(cd)\n",
    "        cdf['Energy'] = energy\n",
    "        cdf['Element'] = elist[element]\n",
    "        df = pd.concat([df, cdf], ignore_index=True)"
   ]
  },
  {
   "cell_type": "code",
   "execution_count": 7,
   "metadata": {},
   "outputs": [
    {
     "data": {
      "text/html": [
       "<div>\n",
       "<style scoped>\n",
       "    .dataframe tbody tr th:only-of-type {\n",
       "        vertical-align: middle;\n",
       "    }\n",
       "\n",
       "    .dataframe tbody tr th {\n",
       "        vertical-align: top;\n",
       "    }\n",
       "\n",
       "    .dataframe thead th {\n",
       "        text-align: right;\n",
       "    }\n",
       "</style>\n",
       "<table border=\"1\" class=\"dataframe\">\n",
       "  <thead>\n",
       "    <tr style=\"text-align: right;\">\n",
       "      <th></th>\n",
       "      <th>Wavelength</th>\n",
       "      <th>Intensity</th>\n",
       "      <th>State</th>\n",
       "      <th>UpperLevel</th>\n",
       "      <th>UpperLevelNr</th>\n",
       "      <th>UpperLevelJ</th>\n",
       "      <th>LowerLevel</th>\n",
       "      <th>LowerLevelNr</th>\n",
       "      <th>LowerLevelJ</th>\n",
       "      <th>Element</th>\n",
       "      <th>Energy</th>\n",
       "    </tr>\n",
       "  </thead>\n",
       "  <tbody>\n",
       "    <tr>\n",
       "      <th>0</th>\n",
       "      <td>1.000001</td>\n",
       "      <td>7.925200e-21</td>\n",
       "      <td>29</td>\n",
       "      <td>3p2-6g1</td>\n",
       "      <td>1135</td>\n",
       "      <td>2.0</td>\n",
       "      <td>3p2-3d1</td>\n",
       "      <td>-103</td>\n",
       "      <td>2.0</td>\n",
       "      <td>42</td>\n",
       "      <td>4650</td>\n",
       "    </tr>\n",
       "    <tr>\n",
       "      <th>1</th>\n",
       "      <td>1.000006</td>\n",
       "      <td>1.222400e-20</td>\n",
       "      <td>29</td>\n",
       "      <td>3p2-6g1</td>\n",
       "      <td>973</td>\n",
       "      <td>3.0</td>\n",
       "      <td>3p2-3d1</td>\n",
       "      <td>-76</td>\n",
       "      <td>2.0</td>\n",
       "      <td>42</td>\n",
       "      <td>4650</td>\n",
       "    </tr>\n",
       "    <tr>\n",
       "      <th>2</th>\n",
       "      <td>1.000006</td>\n",
       "      <td>1.884600e-16</td>\n",
       "      <td>31</td>\n",
       "      <td>3p1-6d1</td>\n",
       "      <td>342</td>\n",
       "      <td>2.0</td>\n",
       "      <td>3p1-3d1</td>\n",
       "      <td>-152</td>\n",
       "      <td>3.0</td>\n",
       "      <td>42</td>\n",
       "      <td>4650</td>\n",
       "    </tr>\n",
       "    <tr>\n",
       "      <th>3</th>\n",
       "      <td>1.000009</td>\n",
       "      <td>1.240600e-22</td>\n",
       "      <td>29</td>\n",
       "      <td>3p2-6g1</td>\n",
       "      <td>933</td>\n",
       "      <td>5.0</td>\n",
       "      <td>3p2-3d1</td>\n",
       "      <td>-67</td>\n",
       "      <td>4.0</td>\n",
       "      <td>42</td>\n",
       "      <td>4650</td>\n",
       "    </tr>\n",
       "    <tr>\n",
       "      <th>4</th>\n",
       "      <td>1.000009</td>\n",
       "      <td>3.602200e-15</td>\n",
       "      <td>32</td>\n",
       "      <td>2p5-3p2</td>\n",
       "      <td>-30</td>\n",
       "      <td>3.5</td>\n",
       "      <td>3d1-4d1</td>\n",
       "      <td>-943</td>\n",
       "      <td>3.5</td>\n",
       "      <td>42</td>\n",
       "      <td>4650</td>\n",
       "    </tr>\n",
       "  </tbody>\n",
       "</table>\n",
       "</div>"
      ],
      "text/plain": [
       "   Wavelength     Intensity  State UpperLevel  UpperLevelNr  UpperLevelJ  \\\n",
       "0    1.000001  7.925200e-21     29    3p2-6g1          1135          2.0   \n",
       "1    1.000006  1.222400e-20     29    3p2-6g1           973          3.0   \n",
       "2    1.000006  1.884600e-16     31    3p1-6d1           342          2.0   \n",
       "3    1.000009  1.240600e-22     29    3p2-6g1           933          5.0   \n",
       "4    1.000009  3.602200e-15     32    2p5-3p2           -30          3.5   \n",
       "\n",
       "  LowerLevel  LowerLevelNr  LowerLevelJ  Element  Energy  \n",
       "0    3p2-3d1          -103          2.0       42    4650  \n",
       "1    3p2-3d1           -76          2.0       42    4650  \n",
       "2    3p1-3d1          -152          3.0       42    4650  \n",
       "3    3p2-3d1           -67          4.0       42    4650  \n",
       "4    3d1-4d1          -943          3.5       42    4650  "
      ]
     },
     "execution_count": 7,
     "metadata": {},
     "output_type": "execute_result"
    }
   ],
   "source": [
    "df.reindex(['Wavelength','Intensity','State','UpperLevel', 'UpperLevelNr', 'UpperLevelJ',\n",
    "            'LowerLevel', 'LowerLevelNr', 'LowerLevelJ', 'Element', 'Energy'], axis=1).head()"
   ]
  },
  {
   "cell_type": "code",
   "execution_count": 8,
   "metadata": {},
   "outputs": [],
   "source": [
    "df = df.reindex(['Wavelength','Intensity','State','UpperLevel', 'UpperLevelNr', 'UpperLevelJ',\n",
    "            'LowerLevel', 'LowerLevelNr', 'LowerLevelJ', 'Element', 'Energy'], axis=1)"
   ]
  },
  {
   "cell_type": "markdown",
   "metadata": {},
   "source": [
    "## We have data for Yttrium as well but it is in a different format"
   ]
  },
  {
   "cell_type": "code",
   "execution_count": 9,
   "metadata": {},
   "outputs": [
    {
     "name": "stdout",
     "output_type": "stream",
     "text": [
      "SP1000.00_1.00e+11_0_0_4000_30.dat\n",
      "SP1000.00_1.00e+11_0_0_4000_31.dat\n",
      "SP1000.00_1.00e+11_0_0_4000_32.dat\n",
      "SP1000.00_1.00e+11_0_0_4000_33.dat\n",
      "SP1000.00_1.00e+11_0_0_4000_34.dat\n",
      "SP1000.00_1.00e+11_0_0_4000_35.dat\n",
      "SP1000.00_1.00e+11_0_0_4000_36.dat\n",
      "SP1000.00_1.00e+11_0_0_4000_37.dat\n",
      "SP1000.00_1.00e+11_0_0_4100_30.dat\n",
      "SP1000.00_1.00e+11_0_0_4100_31.dat\n"
     ]
    }
   ],
   "source": [
    "%%bash\n",
    "ls ../data/theoretical/Y | head"
   ]
  },
  {
   "cell_type": "markdown",
   "metadata": {},
   "source": [
    "Charge and energy are in the files name"
   ]
  },
  {
   "cell_type": "code",
   "execution_count": 10,
   "metadata": {},
   "outputs": [],
   "source": [
    "Y_fold = '../data/theoretical/Y/'"
   ]
  },
  {
   "cell_type": "code",
   "execution_count": 11,
   "metadata": {},
   "outputs": [
    {
     "name": "stdout",
     "output_type": "stream",
     "text": [
      "SP1000.00_1.00e+11_0_0_9000_34.dat\n",
      "SP1000.00_1.00e+11_0_0_4100_37.dat\n",
      "SP1000.00_1.00e+11_0_0_4000_37.dat\n",
      "SP1000.00_1.00e+11_0_0_4000_36.dat\n",
      "SP1000.00_1.00e+11_0_0_4100_36.dat\n",
      "SP1000.00_1.00e+11_0_0_9000_35.dat\n",
      "SP1000.00_1.00e+11_0_0_9000_37.dat\n",
      "SP1000.00_1.00e+11_0_0_4000_34.dat\n",
      "SP1000.00_1.00e+11_0_0_4100_34.dat\n",
      "SP1000.00_1.00e+11_0_0_4100_35.dat\n",
      "SP1000.00_1.00e+11_0_0_4000_35.dat\n",
      "SP1000.00_1.00e+11_0_0_9000_36.dat\n",
      "SP1000.00_1.00e+11_0_0_9000_32.dat\n",
      "SP1000.00_1.00e+11_0_0_4000_31.dat\n",
      "SP1000.00_1.00e+11_0_0_4100_31.dat\n",
      "SP1000.00_1.00e+11_0_0_4100_30.dat\n",
      "SP1000.00_1.00e+11_0_0_4000_30.dat\n",
      "SP1000.00_1.00e+11_0_0_9000_33.dat\n",
      "SP1000.00_1.00e+11_0_0_9000_31.dat\n",
      "SP1000.00_1.00e+11_0_0_4100_32.dat\n",
      "SP1000.00_1.00e+11_0_0_4000_32.dat\n",
      "SP1000.00_1.00e+11_0_0_4000_33.dat\n",
      "SP1000.00_1.00e+11_0_0_4100_33.dat\n",
      "SP1000.00_1.00e+11_0_0_9000_30.dat\n",
      "SP1000.00_1.00e+11_0_0_5000_37.dat\n",
      "SP1000.00_1.00e+11_0_0_4700_31.dat\n",
      "SP1000.00_1.00e+11_0_0_4600_31.dat\n",
      "SP1000.00_1.00e+11_0_0_4600_30.dat\n",
      "SP1000.00_1.00e+11_0_0_4700_30.dat\n",
      "SP1000.00_1.00e+11_0_0_5000_36.dat\n",
      "SP1000.00_1.00e+11_0_0_5000_34.dat\n",
      "SP1000.00_1.00e+11_0_0_4600_32.dat\n",
      "SP1000.00_1.00e+11_0_0_4700_32.dat\n",
      "SP1000.00_1.00e+11_0_0_4700_33.dat\n",
      "SP1000.00_1.00e+11_0_0_4600_33.dat\n",
      "SP1000.00_1.00e+11_0_0_5000_35.dat\n",
      "SP1000.00_1.00e+11_0_0_5000_31.dat\n",
      "SP1000.00_1.00e+11_0_0_4600_37.dat\n",
      "SP1000.00_1.00e+11_0_0_4700_37.dat\n",
      "SP1000.00_1.00e+11_0_0_4700_36.dat\n",
      "SP1000.00_1.00e+11_0_0_4600_36.dat\n",
      "SP1000.00_1.00e+11_0_0_5000_30.dat\n",
      "SP1000.00_1.00e+11_0_0_5000_32.dat\n",
      "SP1000.00_1.00e+11_0_0_4700_34.dat\n",
      "SP1000.00_1.00e+11_0_0_4600_34.dat\n",
      "SP1000.00_1.00e+11_0_0_4600_35.dat\n",
      "SP1000.00_1.00e+11_0_0_4700_35.dat\n",
      "SP1000.00_1.00e+11_0_0_5000_33.dat\n",
      "SP1000.00_1.00e+11_0_0_6000_36.dat\n",
      "SP1000.00_1.00e+11_0_0_4800_31.dat\n",
      "SP1000.00_1.00e+11_0_0_4750_35.dat\n",
      "SP1000.00_1.00e+11_0_0_4200_32.dat\n",
      "SP1000.00_1.00e+11_0_0_4300_32.dat\n",
      "SP1000.00_1.00e+11_0_0_4300_33.dat\n",
      "SP1000.00_1.00e+11_0_0_4200_33.dat\n",
      "SP1000.00_1.00e+11_0_0_4750_34.dat\n",
      "SP1000.00_1.00e+11_0_0_4800_30.dat\n",
      "SP1000.00_1.00e+11_0_0_6000_37.dat\n",
      "SP1000.00_1.00e+11_0_0_4800_32.dat\n",
      "SP1000.00_1.00e+11_0_0_6000_35.dat\n",
      "SP1000.00_1.00e+11_0_0_4750_36.dat\n",
      "SP1000.00_1.00e+11_0_0_4300_31.dat\n",
      "SP1000.00_1.00e+11_0_0_4200_31.dat\n",
      "SP1000.00_1.00e+11_0_0_4200_30.dat\n",
      "SP1000.00_1.00e+11_0_0_4300_30.dat\n",
      "SP1000.00_1.00e+11_0_0_4750_37.dat\n",
      "SP1000.00_1.00e+11_0_0_6000_34.dat\n",
      "SP1000.00_1.00e+11_0_0_4800_33.dat\n",
      "SP1000.00_1.00e+11_0_0_4800_37.dat\n",
      "SP1000.00_1.00e+11_0_0_6000_30.dat\n",
      "SP1000.00_1.00e+11_0_0_4750_33.dat\n",
      "SP1000.00_1.00e+11_0_0_4300_34.dat\n",
      "SP1000.00_1.00e+11_0_0_4200_34.dat\n",
      "SP1000.00_1.00e+11_0_0_4200_35.dat\n",
      "SP1000.00_1.00e+11_0_0_4300_35.dat\n",
      "SP1000.00_1.00e+11_0_0_4750_32.dat\n",
      "SP1000.00_1.00e+11_0_0_6000_31.dat\n",
      "SP1000.00_1.00e+11_0_0_4800_36.dat\n",
      "SP1000.00_1.00e+11_0_0_6000_33.dat\n",
      "SP1000.00_1.00e+11_0_0_4800_34.dat\n",
      "SP1000.00_1.00e+11_0_0_4750_30.dat\n",
      "SP1000.00_1.00e+11_0_0_4200_37.dat\n",
      "SP1000.00_1.00e+11_0_0_4300_37.dat\n",
      "SP1000.00_1.00e+11_0_0_4300_36.dat\n",
      "SP1000.00_1.00e+11_0_0_4200_36.dat\n",
      "SP1000.00_1.00e+11_0_0_4750_31.dat\n",
      "SP1000.00_1.00e+11_0_0_4800_35.dat\n",
      "SP1000.00_1.00e+11_0_0_6000_32.dat\n",
      "SP1000.00_1.00e+11_0_0_4400_34.dat\n",
      "SP1000.00_1.00e+11_0_0_4500_34.dat\n",
      "SP1000.00_1.00e+11_0_0_7000_36.dat\n",
      "SP1000.00_1.00e+11_0_0_7000_37.dat\n",
      "SP1000.00_1.00e+11_0_0_4500_35.dat\n",
      "SP1000.00_1.00e+11_0_0_4400_35.dat\n",
      "SP1000.00_1.00e+11_0_0_4500_37.dat\n",
      "SP1000.00_1.00e+11_0_0_4400_37.dat\n",
      "SP1000.00_1.00e+11_0_0_7000_35.dat\n",
      "SP1000.00_1.00e+11_0_0_7000_34.dat\n",
      "SP1000.00_1.00e+11_0_0_4400_36.dat\n",
      "SP1000.00_1.00e+11_0_0_4500_36.dat\n",
      "SP1000.00_1.00e+11_0_0_4500_32.dat\n",
      "SP1000.00_1.00e+11_0_0_4400_32.dat\n",
      "SP1000.00_1.00e+11_0_0_7000_30.dat\n",
      "SP1000.00_1.00e+11_0_0_7000_31.dat\n",
      "SP1000.00_1.00e+11_0_0_4400_33.dat\n",
      "SP1000.00_1.00e+11_0_0_4500_33.dat\n",
      "SP1000.00_1.00e+11_0_0_4400_31.dat\n",
      "SP1000.00_1.00e+11_0_0_4500_31.dat\n",
      "SP1000.00_1.00e+11_0_0_7000_33.dat\n",
      "SP1000.00_1.00e+11_0_0_7000_32.dat\n",
      "SP1000.00_1.00e+11_0_0_4500_30.dat\n",
      "SP1000.00_1.00e+11_0_0_4400_30.dat\n"
     ]
    }
   ],
   "source": [
    "firstloop = 1\n",
    "\n",
    "for file in os.listdir(Y_fold):\n",
    "    print(file)\n",
    "    energy = int(file.split('_')[-2])\n",
    "    cd = organizeFile(Y_fold+file)\n",
    "    cdf = pd.DataFrame(cd)\n",
    "    cdf['Energy'] = energy\n",
    "    cdf['Element'] = 39\n",
    "    df = pd.concat([df, cdf], ignore_index=True)"
   ]
  },
  {
   "cell_type": "code",
   "execution_count": 12,
   "metadata": {},
   "outputs": [
    {
     "data": {
      "text/plain": [
       "array([42, 66, 68, 56, 39])"
      ]
     },
     "execution_count": 12,
     "metadata": {},
     "output_type": "execute_result"
    }
   ],
   "source": [
    "df.Element.unique()"
   ]
  },
  {
   "cell_type": "code",
   "execution_count": 13,
   "metadata": {},
   "outputs": [],
   "source": [
    "df.to_csv('theoSpec.csv', index=False)"
   ]
  },
  {
   "cell_type": "code",
   "execution_count": null,
   "metadata": {},
   "outputs": [],
   "source": []
  }
 ],
 "metadata": {
  "kernelspec": {
   "display_name": "Python 3",
   "language": "python",
   "name": "python3"
  },
  "language_info": {
   "codemirror_mode": {
    "name": "ipython",
    "version": 3
   },
   "file_extension": ".py",
   "mimetype": "text/x-python",
   "name": "python",
   "nbconvert_exporter": "python",
   "pygments_lexer": "ipython3",
   "version": "3.6.5"
  }
 },
 "nbformat": 4,
 "nbformat_minor": 2
}
